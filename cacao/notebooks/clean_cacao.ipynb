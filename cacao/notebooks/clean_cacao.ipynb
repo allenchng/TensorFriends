{
 "cells": [
  {
   "cell_type": "code",
   "execution_count": 1,
   "metadata": {},
   "outputs": [],
   "source": [
    "import numpy as np\n",
    "import pandas as pd\n",
    "import re\n",
    "from sklearn.model_selection import train_test_split"
   ]
  },
  {
   "cell_type": "code",
   "execution_count": 2,
   "metadata": {},
   "outputs": [],
   "source": [
    "choko = pd.read_csv('./flavors_of_cacao.csv')"
   ]
  },
  {
   "cell_type": "code",
   "execution_count": 3,
   "metadata": {},
   "outputs": [],
   "source": [
    "original_colnames = choko.columns\n",
    "new_colnames = ['company', 'species', 'REF', 'review_year', 'cocoa_p',\n",
    "                'company_location', 'rating', 'bean_typ', 'country']\n",
    "choko = choko.rename(columns=dict(zip(original_colnames, new_colnames)))\n",
    "## And modify data types\n",
    "choko['cocoa_p'] = choko['cocoa_p'].str.replace('%','').astype(float)/100\n",
    "choko['country'] = choko['country'].fillna(choko['species'])"
   ]
  },
  {
   "cell_type": "code",
   "execution_count": 4,
   "metadata": {},
   "outputs": [],
   "source": [
    "def txt_prep(text):\n",
    "    replacements = [\n",
    "        ['-', ', '], ['/ ', ', '], ['/', ', '], ['\\(', ', '], [' and', ', '], [' &', ', '], ['\\)', ''],\n",
    "        ['Dom Rep|DR|Domin Rep|Dominican Rep,|Domincan Republic', 'Dominican Republic'],\n",
    "        ['Mad,|Mad$', 'Madagascar, '],\n",
    "        ['PNG', 'Papua New Guinea, '],\n",
    "        ['Guat,|Guat$', 'Guatemala, '],\n",
    "        ['Ven,|Ven$|Venez,|Venez$', 'Venezuela, '],\n",
    "        ['Ecu,|Ecu$|Ecuad,|Ecuad$', 'Ecuador, '],\n",
    "        ['Nic,|Nic$', 'Nicaragua, '],\n",
    "        ['Cost Rica', 'Costa Rica'],\n",
    "        ['Mex,|Mex$', 'Mexico, '],\n",
    "        ['Jam,|Jam$', 'Jamaica, '],\n",
    "        ['Haw,|Haw$', 'Hawaii, '],\n",
    "        ['Gre,|Gre$', 'Grenada, '],\n",
    "        ['Tri,|Tri$', 'Trinidad, '],\n",
    "        ['C Am', 'Central America'],\n",
    "        ['S America', 'South America'],\n",
    "        [', $', ''], [',  ', ', '], [', ,', ', '], ['\\xa0', ' '],[',\\s+', ','],\n",
    "        [' Bali', ',Bali']\n",
    "    ]\n",
    "    for i, j in replacements:\n",
    "        text = re.sub(i, j, text)\n",
    "    return text"
   ]
  },
  {
   "cell_type": "code",
   "execution_count": 5,
   "metadata": {},
   "outputs": [],
   "source": [
    "choko['country'] = choko['country'].str.replace('.', '').apply(txt_prep)"
   ]
  },
  {
   "cell_type": "code",
   "execution_count": 6,
   "metadata": {},
   "outputs": [],
   "source": [
    "choko['company_location'] = choko['company_location']\\\n",
    ".str.replace('Amsterdam', 'Holland')\\\n",
    ".str.replace('U.K.', 'England')\\\n",
    ".str.replace('Niacragua', 'Nicaragua')\\\n",
    ".str.replace('Domincan Republic', 'Dominican Republic')"
   ]
  },
  {
   "cell_type": "code",
   "execution_count": 7,
   "metadata": {},
   "outputs": [
    {
     "name": "stderr",
     "output_type": "stream",
     "text": [
      "/Users/allenchang/PycharmProjects/edward_one/venv/lib/python3.6/site-packages/ipykernel_launcher.py:4: UserWarning: This pattern has match groups. To actually get the groups, use str.extract.\n",
      "  after removing the cwd from sys.path.\n"
     ]
    },
    {
     "data": {
      "text/plain": [
       "0    1096\n",
       "1     699\n",
       "Name: is_blend, dtype: int64"
      ]
     },
     "execution_count": 7,
     "metadata": {},
     "output_type": "execute_result"
    }
   ],
   "source": [
    "## Let's define blend feature\n",
    "choko['is_blend'] = np.where(\n",
    "    np.logical_or(\n",
    "        np.logical_or(choko['species'].str.lower().str.contains(',|(blend)|;'),\n",
    "                      choko['country'].str.len() == 1),\n",
    "        choko['country'].str.lower().str.contains(',')\n",
    "    )\n",
    "    , 1\n",
    "    , 0\n",
    ")\n",
    "## How many blends/pure cocoa?\n",
    "choko['is_blend'].value_counts()"
   ]
  },
  {
   "cell_type": "code",
   "execution_count": 8,
   "metadata": {},
   "outputs": [
    {
     "data": {
      "text/plain": [
       "0    1590\n",
       "1     205\n",
       "Name: is_domestic, dtype: int64"
      ]
     },
     "execution_count": 8,
     "metadata": {},
     "output_type": "execute_result"
    }
   ],
   "source": [
    "choko['is_domestic'] = np.where(choko['country'] == choko['company_location'], 1, 0)\n",
    "choko['is_domestic'].value_counts()"
   ]
  },
  {
   "cell_type": "code",
   "execution_count": 9,
   "metadata": {},
   "outputs": [
    {
     "data": {
      "text/plain": [
       "Index(['company', 'species', 'REF', 'review_year', 'cocoa_p',\n",
       "       'company_location', 'rating', 'bean_typ', 'country', 'is_blend',\n",
       "       'is_domestic'],\n",
       "      dtype='object')"
      ]
     },
     "execution_count": 9,
     "metadata": {},
     "output_type": "execute_result"
    }
   ],
   "source": [
    "choko.columns"
   ]
  },
  {
   "cell_type": "code",
   "execution_count": 10,
   "metadata": {},
   "outputs": [],
   "source": [
    "choko = choko.drop(columns=['bean_typ'])"
   ]
  },
  {
   "cell_type": "code",
   "execution_count": 11,
   "metadata": {},
   "outputs": [
    {
     "data": {
      "text/plain": [
       "company              object\n",
       "species              object\n",
       "REF                   int64\n",
       "review_year           int64\n",
       "cocoa_p             float64\n",
       "company_location     object\n",
       "rating              float64\n",
       "country              object\n",
       "is_blend              int64\n",
       "is_domestic           int64\n",
       "dtype: object"
      ]
     },
     "execution_count": 11,
     "metadata": {},
     "output_type": "execute_result"
    }
   ],
   "source": [
    "choko.dtypes"
   ]
  },
  {
   "cell_type": "code",
   "execution_count": 12,
   "metadata": {},
   "outputs": [],
   "source": [
    "label = ['rating']\n",
    "y = choko[label]\n"
   ]
  },
  {
   "cell_type": "code",
   "execution_count": 13,
   "metadata": {},
   "outputs": [],
   "source": [
    "choko = choko.astype({'REF':object, 'review_year':object})"
   ]
  },
  {
   "cell_type": "code",
   "execution_count": 14,
   "metadata": {},
   "outputs": [],
   "source": [
    "cat_columns = ['company', 'species', 'REF', 'review_year', 'company_location', 'country', 'is_blend', 'is_domestic']\n",
    "num_columns = ['cocoa_p']"
   ]
  },
  {
   "cell_type": "code",
   "execution_count": 15,
   "metadata": {},
   "outputs": [],
   "source": [
    "one_hot_cat_df = pd.get_dummies(choko[cat_columns])"
   ]
  },
  {
   "cell_type": "code",
   "execution_count": 16,
   "metadata": {},
   "outputs": [],
   "source": [
    "choko_df = pd.concat([one_hot_cat_df, choko[num_columns]], axis=1)\n",
    "y = choko['rating'].values"
   ]
  },
  {
   "cell_type": "code",
   "execution_count": 17,
   "metadata": {},
   "outputs": [],
   "source": [
    "test_size = 0.2\n",
    "train_size = 1 - test_size\n",
    "split_row = int(train_size * choko.shape[0])\n",
    "x_train = choko_df.loc[0:split_row,:]\n",
    "x_test = choko_df.loc[split_row + 1:,:].values\n"
   ]
  },
  {
   "cell_type": "code",
   "execution_count": 24,
   "metadata": {},
   "outputs": [],
   "source": [
    "y_train = y[0:split_row]\n",
    "y_test = y[split_row + 1:]"
   ]
  },
  {
   "cell_type": "code",
   "execution_count": 26,
   "metadata": {},
   "outputs": [
    {
     "data": {
      "text/plain": [
       "array([3.75, 3.  , 2.  , 3.5 , 2.  , 2.  , 3.  , 2.75, 2.75, 3.25, 3.5 ,\n",
       "       2.75, 3.5 , 3.  , 3.25, 2.  , 2.5 , 3.25, 3.5 , 3.25, 3.5 , 2.5 ,\n",
       "       3.  , 3.25, 3.25, 3.  , 3.5 , 3.5 , 3.75, 3.  , 3.  , 3.  , 3.25,\n",
       "       3.25, 3.75, 3.75, 3.75, 2.75, 3.  , 3.5 , 3.75, 4.  , 3.75, 3.  ,\n",
       "       3.75, 3.25, 3.25, 3.5 , 3.75, 3.75, 4.  , 2.75, 3.5 , 3.  , 3.75,\n",
       "       1.5 , 3.  , 3.25, 3.5 , 3.  , 2.75, 2.75, 3.25, 3.25, 3.  , 3.  ,\n",
       "       3.  , 3.25, 3.25, 3.5 , 3.5 , 3.5 , 3.5 , 3.75, 3.75, 4.  , 3.25,\n",
       "       3.5 , 4.  , 3.5 , 3.75, 3.25, 3.5 , 3.75, 3.25, 3.75, 3.25, 2.75,\n",
       "       3.75, 3.25, 3.75, 4.  , 4.  , 4.  , 3.25, 4.  , 3.25, 3.75, 4.  ,\n",
       "       4.  , 3.5 , 3.75, 3.5 , 3.5 , 2.75, 3.5 , 4.  , 4.  , 3.75, 3.5 ,\n",
       "       3.75, 3.  , 3.5 , 3.  , 3.5 , 3.75, 3.75, 3.25, 3.5 , 3.25, 3.5 ,\n",
       "       3.5 , 3.25, 3.25, 3.5 , 3.  , 3.  , 3.25, 3.75, 3.5 , 2.75, 3.5 ,\n",
       "       3.75, 3.75, 2.75, 3.  , 3.  , 2.25, 3.  , 3.  , 3.  , 3.  , 3.  ,\n",
       "       2.75, 3.25, 3.5 , 3.5 , 2.5 , 2.5 , 2.75, 2.75, 3.25, 2.5 , 3.  ,\n",
       "       2.75, 3.  , 2.75, 3.25, 3.25, 3.25, 3.75, 3.25, 3.5 , 3.5 , 3.75,\n",
       "       3.5 , 3.5 , 3.25, 3.25, 3.25, 3.75, 3.  , 2.75, 2.75, 2.5 , 3.  ,\n",
       "       3.  , 3.25, 3.25, 2.75, 3.25, 3.  , 3.25, 2.75, 3.  , 2.  , 3.25,\n",
       "       2.75, 3.  , 2.5 , 2.5 , 2.75, 2.5 , 2.75, 3.  , 3.  , 3.5 , 3.25,\n",
       "       2.  , 3.25, 2.75, 3.  , 3.25, 2.75, 3.  , 3.25, 3.5 , 2.75, 3.75,\n",
       "       3.75, 3.25, 3.5 , 3.75, 3.25, 3.75, 3.75, 3.  , 3.25, 3.5 , 2.5 ,\n",
       "       3.  , 2.  , 3.  , 3.25, 3.75, 3.25, 4.  , 3.  , 2.75, 3.  , 3.  ,\n",
       "       3.5 , 2.75, 3.5 , 3.5 , 3.25, 2.5 , 2.75, 3.  , 3.75, 2.75, 3.  ,\n",
       "       3.  , 3.25, 3.25, 4.  , 3.5 , 3.5 , 4.  , 3.25, 4.  , 3.75, 3.75,\n",
       "       3.5 , 3.  , 3.75, 4.  , 1.5 , 2.5 , 2.75, 3.25, 3.  , 4.  , 2.5 ,\n",
       "       3.  , 3.5 , 2.5 , 2.75, 2.75, 2.75, 2.75, 3.  , 3.  , 3.25, 3.25,\n",
       "       3.25, 3.25, 3.5 , 3.5 , 3.75, 3.25, 3.5 , 3.  , 2.  , 2.  , 3.  ,\n",
       "       3.  , 2.75, 3.  , 3.  , 3.25, 2.75, 2.5 , 2.5 , 3.  , 3.5 , 3.5 ,\n",
       "       2.5 , 2.5 , 2.75, 3.25, 2.75, 4.  , 3.  , 2.25, 3.  , 3.5 , 3.75,\n",
       "       3.  , 3.25, 3.  , 3.5 , 3.75, 3.  , 3.25, 3.5 , 2.5 , 3.  , 3.25,\n",
       "       4.  , 3.5 , 3.  , 2.75, 2.5 , 3.  , 3.25, 3.25, 3.25, 3.5 , 3.  ,\n",
       "       3.5 , 2.75, 2.75, 3.  , 3.5 , 3.5 , 3.75, 3.25, 3.5 , 3.5 , 3.75,\n",
       "       2.75, 3.5 , 3.5 , 3.  , 3.5 , 3.75, 3.  , 3.  , 3.25, 3.75, 3.25,\n",
       "       3.5 , 3.75, 3.  , 3.5 , 3.25, 3.  ])"
      ]
     },
     "execution_count": 26,
     "metadata": {},
     "output_type": "execute_result"
    }
   ],
   "source": [
    "y_test"
   ]
  }
 ],
 "metadata": {
  "kernelspec": {
   "display_name": "Python 3",
   "language": "python",
   "name": "python3"
  },
  "language_info": {
   "codemirror_mode": {
    "name": "ipython",
    "version": 3
   },
   "file_extension": ".py",
   "mimetype": "text/x-python",
   "name": "python",
   "nbconvert_exporter": "python",
   "pygments_lexer": "ipython3",
   "version": "3.6.5"
  }
 },
 "nbformat": 4,
 "nbformat_minor": 2
}
